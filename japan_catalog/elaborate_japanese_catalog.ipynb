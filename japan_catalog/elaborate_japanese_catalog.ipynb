{
 "cells": [
  {
   "cell_type": "code",
   "execution_count": 1,
   "metadata": {},
   "outputs": [],
   "source": [
    "import numpy as np\n",
    "import matplotlib.pyplot as plt\n",
    "import pandas as pd\n",
    "import datetime as DT\n",
    "import pytz\n",
    "from sklearn.metrics.pairwise import haversine_distances"
   ]
  },
  {
   "cell_type": "code",
   "execution_count": 2,
   "metadata": {},
   "outputs": [],
   "source": [
    "R0 = 6371\n",
    "R1 = 150\n",
    "nDays = 45\n",
    "min_event_mag = 3"
   ]
  },
  {
   "cell_type": "code",
   "execution_count": 3,
   "metadata": {},
   "outputs": [],
   "source": [
    "def t2dt(atime):\n",
    "    \"\"\"\n",
    "    Convert atime (a float) to DT.datetime\n",
    "    This is the inverse of dt2t.\n",
    "    assert dt2t(t2dt(atime)) == atime\n",
    "    \"\"\"\n",
    "    year = int(atime)\n",
    "    remainder = atime - year\n",
    "    boy = DT.datetime(year, 1, 1)\n",
    "    eoy = DT.datetime(year + 1, 1, 1)\n",
    "    seconds = remainder * (eoy - boy).total_seconds()\n",
    "    res =  boy + DT.timedelta(seconds=seconds)\n",
    "    return res"
   ]
  },
  {
   "cell_type": "code",
   "execution_count": 4,
   "metadata": {},
   "outputs": [],
   "source": [
    "# this catalog has dates in JST time zone, we need to fix this.\n",
    "jap_cat = pd.read_csv('japan_catalog.dat', sep='\\s+', header=None, names=['lon','lat', 'frtime', 'month', 'day', 'mag', 'stuff1','stuff2','stuff3','stuff4'])\n",
    "jap_cat['datetime'] = jap_cat['frtime'].apply(t2dt)\n",
    "jap_cat['datetime'] = pd.to_datetime(jap_cat['datetime'])\n",
    "jap_cat = jap_cat[['datetime', 'lat', 'lon', 'mag']]\n",
    "jap_cat.set_index('datetime', inplace=True, drop=True)\n",
    "# save the new UTC file\n",
    "jap_cat.tz_localize('Asia/Tokyo').tz_convert('UTC').tz_localize(None).to_csv('jap_cat_utc.csv', sep=' ', index_label='datetime')"
   ]
  },
  {
   "cell_type": "code",
   "execution_count": 9,
   "metadata": {},
   "outputs": [],
   "source": [
    "mainshocks_list = pd.read_csv('japan-ms-list.csv', sep='\\s+', parse_dates=['datetime'])\n",
    "jap_cat = pd.read_csv('jap_cat_utc.csv', sep='\\s+', parse_dates=['datetime'])"
   ]
  },
  {
   "cell_type": "code",
   "execution_count": 10,
   "metadata": {},
   "outputs": [],
   "source": [
    "sequence_id = 0\n",
    "sequences = []\n",
    "for _, ms in mainshocks_list.iterrows():\n",
    "    earthquakes_mask = jap_cat.datetime >= ms.datetime\n",
    "    earthquakes_mask &= jap_cat.datetime <= ms.datetime + np.timedelta64(nDays, 'D')\n",
    "    dists = haversine_distances(np.radians(jap_cat[['lat','lon']].values.astype('float')),\n",
    "        np.radians(ms[['lat','lon']].values.astype('float'))[None,:])[:,0]\n",
    "    earthquakes_mask &= dists <= (R1*2*np.sqrt(2)/R0)\n",
    "    earthquakes_mask &= jap_cat.mag >= min_event_mag\n",
    "    sequence = jap_cat[earthquakes_mask].reset_index(drop=True)\n",
    "    sequence['type'] = 2\n",
    "    if(sequence.loc[0,'mag']==ms.mag):\n",
    "        sequence.loc[0,'type'] = 1\n",
    "        sequence['seq_id'] = sequence_id\n",
    "        sequence_id += 1\n",
    "        sequences.append(sequence)\n",
    "    else:\n",
    "        print('Error')\n",
    "sequences = pd.concat(sequences)"
   ]
  },
  {
   "cell_type": "code",
   "execution_count": 11,
   "metadata": {},
   "outputs": [],
   "source": [
    "sequences = sequences.reset_index(drop=True)"
   ]
  },
  {
   "cell_type": "code",
   "execution_count": 12,
   "metadata": {},
   "outputs": [],
   "source": [
    "sequences.to_csv('giuseppe_catalog.csv', index=False, sep=' ')"
   ]
  }
 ],
 "metadata": {
  "kernelspec": {
   "display_name": "base",
   "language": "python",
   "name": "python3"
  },
  "language_info": {
   "codemirror_mode": {
    "name": "ipython",
    "version": 3
   },
   "file_extension": ".py",
   "mimetype": "text/x-python",
   "name": "python",
   "nbconvert_exporter": "python",
   "pygments_lexer": "ipython3",
   "version": "3.9.13"
  },
  "orig_nbformat": 4
 },
 "nbformat": 4,
 "nbformat_minor": 2
}
